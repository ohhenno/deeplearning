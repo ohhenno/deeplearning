# MULTI-IMAGE SCAN USING GRADCAM 

# import the necessary packages
from tensorflow.keras.applications import ResNet50
from tensorflow.keras.applications import VGG16
from tensorflow.keras.preprocessing.image import img_to_array
from tensorflow.keras.preprocessing.image import load_img
from tensorflow.keras.applications import imagenet_utils
from tensorflow.keras.models import Model
import cv2
from google.colab.patches import cv2_imshow
import matplotlib.pyplot as plt
import tensorflow as tf
import os
import numpy as np
import imutils
import cv2

# load the pre-trained CNN from disk
model = VGG16(weights="imagenet")

# set the directory containing the images
image_dir = '/content/drive/My Drive/plant_image_classification/experimental'

# loop over the images in the directory
for img_file in os.listdir(image_dir):
    # check if the file is an image
    if img_file.endswith('.jpg') or img_file.endswith('.jpeg') or img_file.endswith('.png'):
        # load the original image from disk (in OpenCV format) and then
        # resize the image to its target dimensions
        img_path = os.path.join(image_dir, img_file)
        orig = cv2.imread(img_path)
        resized = cv2.resize(orig, (224, 224))

        # load the input image from disk (in Keras/TensorFlow format) and
        # preprocess it
        image = load_img(img_path, target_size=(224, 224))
        image = img_to_array(image)
        image = np.expand_dims(image, axis=0)
        image = imagenet_utils.preprocess_input(image)

        # use the network to make predictions on the input image and find
        # the class label index with the largest corresponding probability
        preds = model.predict(image)
        i = np.argmax(preds[0])

        # decode the ImageNet predictions to obtain the human-readable label
        decoded = imagenet_utils.decode_predictions(preds)
        (imagenetID, label, prob) = decoded[0][0]
        label = "{}: {:.2f}%".format(label, prob * 100)
        print("[INFO] {}".format(label))

        # initialize the GradCAM class
        gc = GradCAM(model, i)

        # generate the GradCAM heatmap
        heatmap = gc.compute_heatmap(image)

        # resize the original image to match the heatmap size
        heatmap = cv2.resize(heatmap, (resized.shape[1], resized.shape[0]))

        # apply a jet colormap to the heatmap to visualize it better
        jet = cv2.applyColorMap(heatmap, cv2.COLORMAP_JET)

        # overlay the heatmap onto the original image
        output = cv2.addWeighted(resized, 0.5, jet, 0.5, 0)

        # display the original image and the GradCAM heatmap side by side
        fig, ax = plt.subplots(1, 2, figsize=(15, 10))

        ax[0].imshow(cv2.cvtColor(orig, cv2.COLOR_BGR2RGB))
        ax[0].set_title('Prediction: ' + label)

        ax[1].imshow(cv2.cvtColor(output, cv2.COLOR_BGR2RGB))
        ax[1].set_title('GradCAM Heatmap')

        plt.show()
