timport numpy as np
import tensorflow as tf
from tensorflow import keras
from tensorflow.keras import layers
from tensorflow.keras.preprocessing.image import ImageDataGenerator
from tensorflow.keras.applications import VGG16
import matplotlib.pyplot as plt

# Check if GPU is available
physical_devices = tf.config.list_physical_devices('GPU')
if len(physical_devices) > 0:
    try:
        tf.config.experimental.set_memory_growth(physical_devices[0], True)
        print("Using GPU")
    except:
        print("Unable to set GPU memory growth")
else:
    print("No GPU found")

# Create an instance of the ImageDataGenerator class
datagen = ImageDataGenerator(
    rescale=1./255,
    rotation_range=15,
    width_shift_range=0.2,
    height_shift_range=0.2,
    shear_range=0.2,
    zoom_range=0.2,
    horizontal_flip=True,
    vertical_flip=False,
    fill_mode='nearest')

# Define the input shape of the image
input_shape = (224, 224, 3)

# Load the training and validation data
train_data = datagen.flow_from_directory(
    '/content/drive/My Drive/plant_image_classification/train',
    target_size=input_shape[:2],
    batch_size=16,
    class_mode='categorical', # change to 'categorical' for multi-class classification
    color_mode='rgb'
)

val_data = datagen.flow_from_directory(
    '/content/drive/My Drive/plant_image_classification/val',
    target_size=input_shape[:2],
    batch_size=16,
    class_mode='categorical', # change to 'categorical' for multi-class classification
    color_mode='rgb'
)

test_data = datagen.flow_from_directory(
    '/content/drive/My Drive/plant_image_classification/test',
    target_size=input_shape[:2],
    batch_size=16,
    class_mode='categorical', # change to 'categorical' for multi-class classification
    color_mode='rgb'
)
# Use transfer learning from VGG16
base_model = VGG16(weights='imagenet',
                   include_top=False,
                   input_shape=input_shape)

# Freeze the pre-trained layers
for layer in base_model.layers:
    layer.trainable = False

# Add custom layers on top of the pre-trained model
model = keras.Sequential([
    base_model,
    layers.Flatten(),
    layers.Dense(256, activation='relu'),
    layers.Dropout(0.4),
    layers.Dense(128, activation='relu'),
    layers.Dropout(0.4),
    layers.Dense(4, activation='softmax')
])

# Define the optimizer with a smaller learning rate
opt = keras.optimizers.Adam(learning_rate=1e-5)

# Compile the model
model.compile(loss='categorical_crossentropy', optimizer=opt, metrics=['accuracy'])

# Define the callback to save the best model during
checkpoint_cb = keras.callbacks.ModelCheckpoint(
"/content/drive/My Drive/plant_image_classification/train20.h5",
save_best_only=True,
monitor='val_loss',
mode='min')

#Define early stopping callback
early_stopping_cb = keras.callbacks.EarlyStopping(
monitor='val_loss',
patience=10,
restore_best_weights=True)

#Train the model
history = model.fit(
train_data,
validation_data=val_data,
epochs=20,
callbacks=[checkpoint_cb, early_stopping_cb])

# Evaluate the model on the test data
test_loss, test_acc = model.evaluate(test_data)

print(f"Test Loss: {test_loss:.2f}")
print(f"Test Accuracy: {test_acc*100:.2f}%")

#Plot the training and validation accuracy and loss over the epochs
plt.plot(history.history['accuracy'])
plt.plot(history.history['val_accuracy'])
plt.title('Model accuracy')
plt.ylabel('Accuracy')
plt.xlabel('Epoch')
plt.legend(['Train', 'Validation'], loc='upper left')
plt.show()

plt.plot(history.history['loss'])
plt.plot(history.history['val_loss'])
plt.title('Model loss')
plt.ylabel('Loss')
plt.xlabel('Epoch')
plt.legend(['Train', 'Validation'], loc='upper left')
plt.show()
